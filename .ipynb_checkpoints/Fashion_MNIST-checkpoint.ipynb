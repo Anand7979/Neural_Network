{
 "cells": [
  {
   "cell_type": "code",
   "execution_count": 1,
   "metadata": {},
   "outputs": [],
   "source": [
    "import tensorflow as tf\n",
    "from tensorflow import keras\n",
    "import numpy as np"
   ]
  },
  {
   "cell_type": "code",
   "execution_count": 2,
   "metadata": {},
   "outputs": [],
   "source": [
    "fashion_mnist= keras.datasets.fashion_mnist"
   ]
  },
  {
   "cell_type": "code",
   "execution_count": 3,
   "metadata": {},
   "outputs": [],
   "source": [
    "(train_images,train_labels),(test_images,test_labels)=fashion_mnist.load_data()"
   ]
  },
  {
   "cell_type": "code",
   "execution_count": 4,
   "metadata": {},
   "outputs": [],
   "source": [
    "train1_images=train_images/255.0\n",
    "test1_images= test_images/255.0"
   ]
  },
  {
   "cell_type": "code",
   "execution_count": 5,
   "metadata": {},
   "outputs": [
    {
     "data": {
      "text/plain": [
       "(28, 28)"
      ]
     },
     "execution_count": 5,
     "metadata": {},
     "output_type": "execute_result"
    }
   ],
   "source": [
    "train_images[0].shape"
   ]
  },
  {
   "cell_type": "code",
   "execution_count": 6,
   "metadata": {},
   "outputs": [
    {
     "name": "stdout",
     "output_type": "stream",
     "text": [
      "60000\n"
     ]
    }
   ],
   "source": [
    "print(len(train_images))"
   ]
  },
  {
   "cell_type": "code",
   "execution_count": 7,
   "metadata": {},
   "outputs": [],
   "source": [
    "train_images= train_images.reshape(len(train_images),28,28,1)\n",
    "test_images= test_images.reshape(len(test_images),28,28,1)"
   ]
  },
  {
   "cell_type": "code",
   "execution_count": 8,
   "metadata": {},
   "outputs": [],
   "source": [
    "def build_model(hp):\n",
    "    model= keras.Sequential([\n",
    "        keras.layers.Conv2D(\n",
    "          filters=hp.Int('conv_1_filter', min_value=32, max_value=128, step=16),\n",
    "          kernel_size=hp.Choice('conv_1_kernel', values=[3,5]),\n",
    "          activation='relu',\n",
    "          input_shape=(28,28,1)),\n",
    "        \n",
    "        keras.layers.Conv2D(\n",
    "          filters=hp.Int('conv_2_filter', min_value=32, max_value=64, step=16),\n",
    "          kernel_size=hp.Choice('conv_2_kernel', values=[3,5]),\n",
    "          activation='relu' ),\n",
    "        \n",
    "       keras.layers.Flatten(),\n",
    "       \n",
    "       keras.layers.Dense(\n",
    "          units=hp.Int('dense_1_units', min_value=32, max_value=128, step=16),\n",
    "          activation='relu'),\n",
    "        \n",
    "       keras.layers.Dense(10, activation='softmax') \n",
    "        \n",
    "        \n",
    "    ])\n",
    "    \n",
    "    model.compile(optimizer= keras.optimizers.Adam(hp.Choice('learning_rate', values=[1e-2, 1e-3])),\n",
    "                  loss='sparse_categorical_crossentropy',\n",
    "                  metrics=['accuracy'])\n",
    "    \n",
    "    return model\n",
    "    "
   ]
  },
  {
   "cell_type": "code",
   "execution_count": 9,
   "metadata": {},
   "outputs": [],
   "source": [
    "from kerastuner import RandomSearch\n",
    "from kerastuner.engine.hyperparameters import HyperParameters"
   ]
  },
  {
   "cell_type": "code",
   "execution_count": 10,
   "metadata": {},
   "outputs": [
    {
     "name": "stdout",
     "output_type": "stream",
     "text": [
      "INFO:tensorflow:Reloading Oracle from existing project output\\Mnist Fashion\\oracle.json\n"
     ]
    }
   ],
   "source": [
    "tuner_search=RandomSearch(build_model, objective='val_accuracy', max_trials=5, directory='output', project_name='Mnist Fashion')"
   ]
  },
  {
   "cell_type": "code",
   "execution_count": 11,
   "metadata": {},
   "outputs": [
    {
     "name": "stdout",
     "output_type": "stream",
     "text": [
      "Trial 5 Complete [00h 21m 06s]\n",
      "val_accuracy: 0.8816666603088379\n",
      "\n",
      "Best val_accuracy So Far: 0.8845000267028809\n",
      "Total elapsed time: 01h 08m 21s\n",
      "INFO:tensorflow:Oracle triggered exit\n"
     ]
    }
   ],
   "source": [
    "tuner_search.search(train_images, train_labels, epochs=3, validation_split=0.1)"
   ]
  },
  {
   "cell_type": "code",
   "execution_count": 12,
   "metadata": {},
   "outputs": [],
   "source": [
    "model=tuner_search.get_best_models(num_models=1)[0]"
   ]
  },
  {
   "cell_type": "code",
   "execution_count": 13,
   "metadata": {},
   "outputs": [
    {
     "name": "stdout",
     "output_type": "stream",
     "text": [
      "Model: \"sequential\"\n",
      "_________________________________________________________________\n",
      "Layer (type)                 Output Shape              Param #   \n",
      "=================================================================\n",
      "conv2d (Conv2D)              (None, 24, 24, 32)        832       \n",
      "_________________________________________________________________\n",
      "conv2d_1 (Conv2D)            (None, 20, 20, 64)        51264     \n",
      "_________________________________________________________________\n",
      "flatten (Flatten)            (None, 25600)             0         \n",
      "_________________________________________________________________\n",
      "dense (Dense)                (None, 48)                1228848   \n",
      "_________________________________________________________________\n",
      "dense_1 (Dense)              (None, 10)                490       \n",
      "=================================================================\n",
      "Total params: 1,281,434\n",
      "Trainable params: 1,281,434\n",
      "Non-trainable params: 0\n",
      "_________________________________________________________________\n"
     ]
    }
   ],
   "source": [
    "model.summary()"
   ]
  },
  {
   "cell_type": "code",
   "execution_count": 16,
   "metadata": {},
   "outputs": [
    {
     "name": "stdout",
     "output_type": "stream",
     "text": [
      "Epoch 4/10\n",
      "1688/1688 [==============================] - 148s 88ms/step - loss: 0.2704 - accuracy: 0.9006 - val_loss: 0.3432 - val_accuracy: 0.8803\n",
      "Epoch 5/10\n",
      "1688/1688 [==============================] - 149s 88ms/step - loss: 0.2295 - accuracy: 0.9145 - val_loss: 0.3560 - val_accuracy: 0.8840\n",
      "Epoch 6/10\n",
      "1688/1688 [==============================] - 149s 88ms/step - loss: 0.2044 - accuracy: 0.9258 - val_loss: 0.3687 - val_accuracy: 0.8853\n",
      "Epoch 7/10\n",
      "1688/1688 [==============================] - 147s 87ms/step - loss: 0.1682 - accuracy: 0.9376 - val_loss: 0.3921 - val_accuracy: 0.8877\n",
      "Epoch 8/10\n",
      "1688/1688 [==============================] - 163s 97ms/step - loss: 0.1486 - accuracy: 0.9453 - val_loss: 0.4295 - val_accuracy: 0.8895s - loss: 0.1488 - accura\n",
      "Epoch 9/10\n",
      "1688/1688 [==============================] - 144s 85ms/step - loss: 0.1317 - accuracy: 0.9536 - val_loss: 0.5362 - val_accuracy: 0.8850\n",
      "Epoch 10/10\n",
      "1688/1688 [==============================] - 157s 93ms/step - loss: 0.1161 - accuracy: 0.9584 - val_loss: 0.5525 - val_accuracy: 0.8750\n"
     ]
    },
    {
     "data": {
      "text/plain": [
       "<tensorflow.python.keras.callbacks.History at 0x266b4f33888>"
      ]
     },
     "execution_count": 16,
     "metadata": {},
     "output_type": "execute_result"
    }
   ],
   "source": [
    "model.fit(train_images, train_labels, epochs=10, validation_split=0.1, initial_epoch=3)"
   ]
  },
  {
   "cell_type": "code",
   "execution_count": null,
   "metadata": {},
   "outputs": [],
   "source": []
  }
 ],
 "metadata": {
  "kernelspec": {
   "display_name": "Python 3",
   "language": "python",
   "name": "python3"
  },
  "language_info": {
   "codemirror_mode": {
    "name": "ipython",
    "version": 3
   },
   "file_extension": ".py",
   "mimetype": "text/x-python",
   "name": "python",
   "nbconvert_exporter": "python",
   "pygments_lexer": "ipython3",
   "version": "3.7.4"
  }
 },
 "nbformat": 4,
 "nbformat_minor": 2
}
